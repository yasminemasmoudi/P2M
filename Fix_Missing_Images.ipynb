{
  "nbformat": 4,
  "nbformat_minor": 0,
  "metadata": {
    "colab": {
      "provenance": [],
      "include_colab_link": true
    },
    "kernelspec": {
      "display_name": "Python 3",
      "name": "python3"
    }
  },
  "cells": [
    {
      "cell_type": "markdown",
      "metadata": {
        "id": "view-in-github",
        "colab_type": "text"
      },
      "source": [
        "<a href=\"https://colab.research.google.com/github/yasminemasmoudi/P2M/blob/master/Fix_Missing_Images.ipynb\" target=\"_parent\"><img src=\"https://colab.research.google.com/assets/colab-badge.svg\" alt=\"Open In Colab\"/></a>"
      ]
    },
    {
      "cell_type": "code",
      "source": [
        "from google.colab import drive\n",
        "drive.mount('/content/drive')"
      ],
      "metadata": {
        "colab": {
          "base_uri": "https://localhost:8080/"
        },
        "id": "S18FVU0fEvbQ",
        "outputId": "3e17fc51-93f3-4bcf-b82a-dbc2a601ce5e"
      },
      "execution_count": 6,
      "outputs": [
        {
          "output_type": "stream",
          "name": "stdout",
          "text": [
            "Mounted at /content/drive\n"
          ]
        }
      ]
    },
    {
      "cell_type": "code",
      "metadata": {
        "id": "wS85AnyVJ90T",
        "outputId": "18b359e8-68ea-47e0-9ecd-f263206f44d9",
        "colab": {
          "base_uri": "https://localhost:8080/"
        }
      },
      "source": [
        "import pandas as pd\n",
        "import requests\n",
        "drive_path = '/content/drive/My Drive/p2mfiles/'\n",
        "from bs4 import BeautifulSoup\n",
        "\n",
        "df_books = pd.read_csv(drive_path + 'to_clean.csv')\n",
        "nopic_ids = df_books[df_books.image_url.str.contains('nophoto')].book_id.values\n",
        "\n",
        "headers = requests.utils.default_headers()\n",
        "headers.update({\n",
        "    'User-Agent': 'Mozilla/5.0 (X11; Ubuntu; Linux x86_64; rv:52.0) Gecko/20100101 Firefox/52.0',\n",
        "})\n",
        "URL = 'https://www.goodreads.com/book'\n",
        "\n",
        "print(f'Total missing images : {len(nopic_ids)}')\n",
        "no_images = set([389627,42155,4502877,25735012,19469, 3698,207781, 53580, 105703,63432,313620, 78674, 44360 ])\n",
        "ex = 0\n",
        "\n",
        "for i, bookid in enumerate(nopic_ids):\n",
        "    if bookid in no_images:\n",
        "      continue\n",
        "    try:\n",
        "        page = requests.get(URL + str(bookid), headers = headers)\n",
        "        soup = BeautifulSoup(page.content, 'html.parser')\n",
        "        new_image_url = soup.find(\"div\", {\"class\": \"editionCover\"}).img['src']\n",
        "        df_books.loc[df_books.book_id == bookid,'image_url'] = new_image_url\n",
        "    except Exception as e:\n",
        "        ex += 1\n",
        "        print(f'No image found for Bookid : {bookid} due to {e}')\n",
        "        if(ex > 5):\n",
        "          print('Terminating ..')\n",
        "          break\n",
        "    if i and i % 100 == 0:\n",
        "        print(f'Processed {i} Books')\n",
        "\n",
        "new_nopic_ids = df_books[df_books.image_url.str.contains('nophoto')].book_id.values\n",
        "print(f'Missing images now: {len(new_nopic_ids)}')\n",
        "print(f'Updated {abs(len(new_nopic_ids) - len(nopic_ids))} images')\n",
        "df_books.to_csv(drive_path + 'to_clean.csv', index = False)"
      ],
      "execution_count": 8,
      "outputs": [
        {
          "output_type": "stream",
          "name": "stdout",
          "text": [
            "Total missing images : 13\n",
            "Missing images now: 13\n",
            "Updated 0 images\n"
          ]
        }
      ]
    },
    {
      "cell_type": "code",
      "metadata": {
        "id": "3K0IBy2Jefl3"
      },
      "source": [
        "cols = ['original_title', 'authors', 'average_rating', 'image_url', 'book_id']"
      ],
      "execution_count": 9,
      "outputs": []
    },
    {
      "cell_type": "code",
      "metadata": {
        "id": "D7eBfICvt-zn",
        "outputId": "b7222524-a0a0-4879-bfc9-76457d9c7166",
        "colab": {
          "base_uri": "https://localhost:8080/"
        }
      },
      "source": [
        "cols = [c for c in df_books.columns if not 'Unnamed' in c]\n",
        "df = df_books[cols].copy()\n",
        "df.info()"
      ],
      "execution_count": 10,
      "outputs": [
        {
          "output_type": "stream",
          "name": "stdout",
          "text": [
            "<class 'pandas.core.frame.DataFrame'>\n",
            "RangeIndex: 9274 entries, 0 to 9273\n",
            "Data columns (total 23 columns):\n",
            " #   Column                     Non-Null Count  Dtype  \n",
            "---  ------                     --------------  -----  \n",
            " 0   r_index                    9274 non-null   int64  \n",
            " 1   book_id                    9274 non-null   int64  \n",
            " 2   best_book_id               9274 non-null   int64  \n",
            " 3   work_id                    9274 non-null   int64  \n",
            " 4   books_count                9274 non-null   int64  \n",
            " 5   isbn                       8728 non-null   object \n",
            " 6   isbn13                     8828 non-null   float64\n",
            " 7   authors                    9274 non-null   object \n",
            " 8   original_publication_year  9268 non-null   float64\n",
            " 9   original_title             9274 non-null   object \n",
            " 10  title                      9274 non-null   object \n",
            " 11  language_code              8281 non-null   object \n",
            " 12  average_rating             9274 non-null   float64\n",
            " 13  ratings_count              9274 non-null   int64  \n",
            " 14  work_ratings_count         9274 non-null   int64  \n",
            " 15  work_text_reviews_count    9274 non-null   int64  \n",
            " 16  ratings_1                  9274 non-null   int64  \n",
            " 17  ratings_2                  9274 non-null   int64  \n",
            " 18  ratings_3                  9274 non-null   int64  \n",
            " 19  ratings_4                  9274 non-null   int64  \n",
            " 20  ratings_5                  9274 non-null   int64  \n",
            " 21  image_url                  9274 non-null   object \n",
            " 22  small_image_url            9274 non-null   object \n",
            "dtypes: float64(3), int64(13), object(7)\n",
            "memory usage: 1.6+ MB\n"
          ]
        }
      ]
    },
    {
      "cell_type": "code",
      "metadata": {
        "id": "KGsw--AvuaGF"
      },
      "source": [
        "df.to_csv('full_books.csv', index = False)"
      ],
      "execution_count": 11,
      "outputs": []
    },
    {
      "cell_type": "code",
      "metadata": {
        "id": "B5zgWb8xuzqY"
      },
      "source": [
        "df.to_csv(drive_path + 'full_books.csv', index = False)"
      ],
      "execution_count": 12,
      "outputs": []
    },
    {
      "cell_type": "code",
      "metadata": {
        "id": "SwtVZehwuqDg"
      },
      "source": [
        "cols = ['r_index','book_id','authors','original_title','image_url','average_rating','ratings_count']\n",
        "df = df[cols]\n",
        "df.to_csv('books.csv', index = False)"
      ],
      "execution_count": 13,
      "outputs": []
    },
    {
      "cell_type": "code",
      "source": [],
      "metadata": {
        "id": "4t9avGYdFYM2"
      },
      "execution_count": null,
      "outputs": []
    }
  ]
}